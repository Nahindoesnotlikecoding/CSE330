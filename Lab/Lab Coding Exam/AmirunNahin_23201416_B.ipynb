{
  "nbformat": 4,
  "nbformat_minor": 0,
  "metadata": {
    "colab": {
      "provenance": []
    },
    "kernelspec": {
      "name": "python3",
      "display_name": "Python 3"
    },
    "language_info": {
      "name": "python"
    }
  },
  "cells": [
    {
      "cell_type": "code",
      "source": [
        "import numpy as np\n",
        "import pandas as pd\n",
        "import matplotlib.pyplot as plt\n",
        "from numpy.polynomial import Polynomial"
      ],
      "metadata": {
        "id": "h85I2nctx5gM"
      },
      "execution_count": 1,
      "outputs": []
    },
    {
      "cell_type": "markdown",
      "source": [],
      "metadata": {
        "id": "9G-5s4YVRRbP"
      }
    },
    {
      "cell_type": "markdown",
      "source": [
        "# **Question 1:**\n",
        "Imagine you are an archaeologist analyzing the growth rings of ancient trees to estimate climate changes over centuries. The data points you collected represent tree ring widths at certain years. From previous studies, you know that only specific powers of time influence growth, so you want to build a polynomial using those particular powers while skipping the others.\n",
        "\n",
        "> **Example Data Points:**\n",
        ">\n",
        "> * `data_x = np.array([1, 2, 3, 4])`\n",
        "> * `data_y = np.array([6, 11, 18, 26])`\n",
        "> * `powers = np.array([0, 2, 3, 6])`\n",
        "\n",
        "**(a)** **[4 Marks]** Now, your task is to  write a function called `get_poly_custom_powers(data_x, data_y, powers)`.\n",
        "\n",
        "**Function Description:**\n",
        "\n",
        "* The function will create a modified Vandermonde matrix using only the powers given in the `powers` list instead of the increasing order of power in a Polynomial.\n",
        "* Then, find the coefficients of the polynomial using this matrix.\n",
        "* Finally, return a NumPy Polynomial object that includes all powers from 0 up to the highest one in the list.\n",
        "* For any missing powers, set the corresponding coefficient to 0.\n",
        "* You may use NumPy’s Polynomial class to create and evaluate the polynomial.\n",
        "\n",
        "Hint: A polynomial $a_0x^0+a_1x^1+a_2x^2+a_3x^3$ should now become $a_0x^0+0*x^1+a_1x^2+a_2x^3+0*x^4+0*x^5+a_3x^6$ according to the given powers.\n",
        "Remember you cannot hardcode, it should work for any list of power.\n",
        "\n",
        "**(b)** **[2 Marks]** Using the polynomial from part (a), find the value of the polynomial at $x=5$ and print all the coefficients of the full polynomial (including zeros for any missing powers) in increasing order of power.\n"
      ],
      "metadata": {
        "id": "D3QQ8o-2oSaN"
      }
    },
    {
      "cell_type": "code",
      "source": [
        "def get_poly_custom_powers(data_x, data_y, powers):\n",
        "  n = len(data_x)\n",
        "  matrix = np.zeros(shape=(n, n))\n",
        "  for i in range(n):\n",
        "    for j in range(n):\n",
        "        matrix[i][j] = (data_x[i]**powers[j])\n",
        "\n",
        "  x_inv = np.linalg.inv(matrix)\n",
        "  coeff = np.dot(x_inv, data_y)\n",
        "  new_coeff = np.zeros(max(powers)+1)\n",
        "  for i in range(len(coeff)):\n",
        "    new_coeff[powers[i]] = coeff[i]\n",
        "  return new_coeff\n",
        "\n",
        "data_x = np.array([1, 2, 3, 4])\n",
        "data_y = np.array([6, 11, 18, 26])\n",
        "powers = np.array([0, 2, 3, 6])\n",
        "result = get_poly_custom_powers(data_x, data_y, powers)\n",
        "\n",
        "p = Polynomial(result)\n",
        "print(p)\n",
        "\n",
        "\n",
        "x = 5\n",
        "ans = p(x)\n",
        "print(f\"Value of the Polynomial at x=5 is =\",ans)\n",
        "print(f\"coeff in increasing power:\", np.sort(result))"
      ],
      "metadata": {
        "colab": {
          "base_uri": "https://localhost:8080/"
        },
        "id": "unX25IS-TWfN",
        "outputId": "1eff57a6-da38-417e-d070-36ec82dda46d"
      },
      "execution_count": 2,
      "outputs": [
        {
          "output_type": "stream",
          "name": "stdout",
          "text": [
            "4.08637874 + 0.0·x + 2.0996124·x² - 0.18604651·x³ + 0.0·x⁴ + 0.0·x⁵ +\n",
            "(5.53709856e-05)·x⁶\n",
            "Value of the Polynomial at x=5 is = 34.18604651162805\n",
            "coeff in increasing power: [-1.86046512e-01  0.00000000e+00  0.00000000e+00  0.00000000e+00\n",
            "  5.53709856e-05  2.09961240e+00  4.08637874e+00]\n"
          ]
        }
      ]
    },
    {
      "cell_type": "markdown",
      "source": [
        "# **Question 2:**"
      ],
      "metadata": {
        "id": "h-OIC73Pr2Hd"
      }
    },
    {
      "cell_type": "code",
      "source": [
        "class Lagrange_Polynomial:\n",
        "    def __init__(self, data_x, data_y):\n",
        "        '''\n",
        "        First we need to check whether the input vectors (numpy arrays) are equal\n",
        "        or not.\n",
        "        assert (condition), \"msg\"\n",
        "        this command checks if the condition is true or false. If true, the code\n",
        "        runs normally. But if false, then the code returns an error message \"msg\"\n",
        "        and stops execution\n",
        "        '''\n",
        "        assert len(data_x) == len(data_y), \"length of data_x and data_y must be equal\"\n",
        "\n",
        "        '''\n",
        "        Lagrange polynomials do not use coefficeints a_i, rather the nodes\n",
        "        (x_i, y_i). Hence, we just need to store these inside the object\n",
        "        '''\n",
        "\n",
        "        self.data_x = data_x\n",
        "        self.data_y = data_y\n",
        "\n",
        "        self.degree = len(data_x) - 1\n",
        "        # we assume that the inputs are numpy array, so we can perform\n",
        "        # element wise operations\n",
        "\n",
        "    def __repr__(self):\n",
        "        # method for string representation\n",
        "        strL = f\"LagrangePolynomial of order {self.degree}\\n\"\n",
        "        strL += \"p(x) = \"\n",
        "        for i in range(len(self.data_y)):\n",
        "            if self.data_y[i] == 0:\n",
        "                continue\n",
        "            elif self.data_y[i] >= 0:\n",
        "                strL += f\"+ {self.data_y[i]}*l_{i}(x) \"\n",
        "            else:\n",
        "                strL += f\"- {-self.data_y[i]}*l_{i}(x) \"\n",
        "\n",
        "        return strL\n",
        "\n",
        "    def l(self, k, x):\n",
        "\n",
        "        l_k = 1.0 # Initialization\n",
        "        #Write your code here\n",
        "        for i in range(len(self.data_x)):\n",
        "          if i==k:\n",
        "            continue\n",
        "          else:\n",
        "            l_k *= (x-self.data_x[k])/(self.data_x[k]-self.data_x[i])\n",
        "\n",
        "\n",
        "\n",
        "        return l_k\n",
        "\n",
        "\n",
        "    def __call__(self, x_arr):\n",
        "        #Write your code here\n",
        "        p_x_arr = np.zeros(len(x_arr))\n",
        "\n",
        "        for i in range(len(x_arr)):\n",
        "          for j in range(len(self.data_x)):\n",
        "            p_x_arr += self.l(j, x_arr[i])*self.data_y[j]\n",
        "\n",
        "        return p_x_arr"
      ],
      "metadata": {
        "id": "BEG5IQbIz3Fa"
      },
      "execution_count": 3,
      "outputs": []
    },
    {
      "cell_type": "markdown",
      "source": [
        "Complete the Lagrange Polynomial class and find the answer to the follwing tasks\n",
        "\n",
        "Q1. Construct a polynomial of minimum degree that passes through the following points using Lagrange interpolation: [ Marks: 1 ]\n",
        "\n",
        "( -8, -132 ), ( -4, 168 ), ( 0, 84 ) and ( 4, 0 ).\n",
        "\n",
        "\\\\\n",
        "\n",
        "Q2. Create a new Lagrange interpolating polynomial by adding the following two points to the original dataset: [ Marks: 1 ]\n",
        "\n",
        "( −2, 100 ) and ( 2, 20 )\n",
        "\n",
        "\\\\\n",
        "\n",
        "\n",
        "Q3. Plot both polynomials from Q1 and Q2 on the same graph using a domain of\n",
        "\n",
        "[ −20, 20 ], with at least 1000 samples for each curve.\n",
        "\n",
        "Also:\n",
        "\n",
        "1) Plot the original 4 data points as red dots. [ Marks: 1.5 ]\n",
        "\n",
        "2) Plot the new points from Q2 and point them as green star. [ Marks: 1.5 ]\n",
        "\n",
        "Include proper legends, labels, and a title."
      ],
      "metadata": {
        "id": "0yhSAAENz6IY"
      }
    },
    {
      "cell_type": "code",
      "source": [
        "data_x = np.array([-8, -4, 0, 4])\n",
        "data_y = np.array([-132, 168, 84, 0])\n",
        "p = Lagrange_Polynomial(data_x, data_y)\n",
        "print(p)"
      ],
      "metadata": {
        "id": "RmtMbnfVz7Pj",
        "colab": {
          "base_uri": "https://localhost:8080/"
        },
        "outputId": "3dd47892-7c3b-4604-dc47-1dbadb85a384"
      },
      "execution_count": 4,
      "outputs": [
        {
          "output_type": "stream",
          "name": "stdout",
          "text": [
            "LagrangePolynomial of order 3\n",
            "p(x) = - 132*l_0(x) + 168*l_1(x) + 84*l_2(x) \n"
          ]
        }
      ]
    },
    {
      "cell_type": "code",
      "source": [
        "data_x1 = np.array([-8, -4, 0, 4, -2, 2])\n",
        "data_y1 = np.array([-132, 168, 84, 0, 100, 20])\n",
        "p1 = Lagrange_Polynomial(data_x1, data_y1)\n",
        "print(p1)"
      ],
      "metadata": {
        "colab": {
          "base_uri": "https://localhost:8080/"
        },
        "id": "5S_vec6jZsg_",
        "outputId": "4b147d10-efda-450f-84cf-268427820a05"
      },
      "execution_count": 5,
      "outputs": [
        {
          "output_type": "stream",
          "name": "stdout",
          "text": [
            "LagrangePolynomial of order 5\n",
            "p(x) = - 132*l_0(x) + 168*l_1(x) + 84*l_2(x) + 100*l_4(x) + 20*l_5(x) \n"
          ]
        }
      ]
    },
    {
      "cell_type": "code",
      "source": [
        "fig, ax = plt.subplots()\n",
        "x_sample_arr = np.linspace(-20, 20, 1000)\n",
        "p2 = p(x_sample_arr)\n",
        "p3 = p1(x_sample_arr)\n",
        "ax.plot(x_sample_arr, p2, label=\"lagrange\")\n",
        "ax.plot(x_sample_arr, p3, label=\"new lagrange\")\n",
        "\n",
        "ax.scatter(data_x, data_y, color='red', marker='o', label='original data (4 pts)')\n",
        "new_x = np.array([-2, 2])\n",
        "new_y = np.array([100, 20])\n",
        "ax.scatter(new_x, new_y, color='green', marker='*', s=120, label='new points (Q2)')\n",
        "\n",
        "\n",
        "ax.set_xlim(-20, 20)\n",
        "ax.legend();"
      ],
      "metadata": {
        "colab": {
          "base_uri": "https://localhost:8080/",
          "height": 445
        },
        "id": "AORt7d5EaHez",
        "outputId": "2e111d14-28e7-480f-a92c-ae4d71de29de"
      },
      "execution_count": 21,
      "outputs": [
        {
          "output_type": "display_data",
          "data": {
            "text/plain": [
              "<Figure size 640x480 with 1 Axes>"
            ],
            "image/png": "[encoded data removed]"
          },
          "metadata": {}
        }
      ]
    },
    {
      "cell_type": "markdown",
      "source": [
        "# **Question 3:**\n",
        "# **Question 3:**\n",
        "\n",
        "Let, $$f(x) = x^5 + 2.5x^4 - 2x^3 -6x^2 + x + 2$$\n",
        "\n",
        "a. Using Richardson's Extrapolation, what is the slope of $f(x)$  at $x=0,−2.18625$ and step size = 0.1? [ Marks: 1 ]\n",
        "\n",
        "b. Compare the error of your method with  actual, forward, backward and central differentiation at  $x=0,−2.18625$ [ Marks: 6 ]\n",
        "\n",
        "c. Plot actual derivative, Forward derivative, Backward derivative, Central derivative and the derivative using Richardson's Extrapolation in a graph. [ Marks: 2 ]\n",
        "\n",
        "\\\\\n",
        "Here, $$h = 0.1$$"
      ],
      "metadata": {
        "id": "AY4MNrowz70V"
      }
    },
    {
      "cell_type": "code",
      "source": [
        "def forward_diff(f, h, x):\n",
        "  return (f(x+h)-f(x))/h\n",
        "def backward_diff(f, h, x):\n",
        "  return (f(x)-f(x-h))/h\n",
        "def central_diff(f, h, x):\n",
        "  return (f(x+h)-f(x-h))/(2*h)\n",
        "\n",
        "\n",
        "def dh(f, h, x):\n",
        "  return central_diff(f, h, x)\n",
        "\n",
        "def dh1(f, h, x):\n",
        "  return (((4*(dh(f, h/2, x)))-dh(f, h, x))/3)\n",
        "\n",
        "p = Polynomial(np.array([2, 1, -6, -2, 2.5, 1]))\n",
        "ans1 = dh1(p, 0.1, 0)\n",
        "ans2 = dh1(p, 0.1, -2.18625)\n",
        "print(f\"for x=0, {ans1}\")\n",
        "print(f\"for x=-2.18625, {ans2}\")\n",
        "\n",
        "def error(f, f_prime, x):\n",
        "  f_error = []\n",
        "  b_error = []\n",
        "  c_error = []\n",
        "\n",
        "  for i in x:\n",
        "    f_error_hi = forward_diff(f, 0.1, i)-f_prime(i)\n",
        "    f_error.append(f_error_hi)\n",
        "    b_error_hi = backward_diff(f, 0.1, i)-f_prime(i)\n",
        "    b_error.append(b_error_hi)\n",
        "    c_error_hi = central_diff(f, 0.1, i)-f_prime(i)\n",
        "    c_error.append(c_error_hi)\n",
        "\n",
        "  return f_error, b_error, c_error\n",
        "\n",
        "f = p\n",
        "f_prime = f.deriv(1)\n",
        "e1 = error(f, f_prime, [0, -2.18625])\n",
        "print(\"forward error\", e1[0])\n",
        "print(\"backward error\", e1[1])\n",
        "print(\"central error\", e1[2])\n"
      ],
      "metadata": {
        "id": "c0Z5D0Tj0GBZ",
        "colab": {
          "base_uri": "https://localhost:8080/"
        },
        "outputId": "2ec35fe5-ff0b-4a0d-8563-44cdcf8d7e19"
      },
      "execution_count": 23,
      "outputs": [
        {
          "output_type": "stream",
          "name": "stdout",
          "text": [
            "for x=0, 0.9999750000000011\n",
            "for x=-2.18625, 8.288026167004322\n",
            "forward error [np.float64(-0.6173999999999982), np.float64(-2.3372989628906566)]\n",
            "backward error [np.float64(0.5776000000000012), np.float64(2.816186775390676)]\n",
            "central error [np.float64(-0.019899999999998474), np.float64(0.23944390625000977)]\n"
          ]
        }
      ]
    },
    {
      "cell_type": "code",
      "source": [
        "fig, ax = plt.subplots()\n",
        "\n",
        "f = Polynomial(np.array([2, 1, -6, -2, 2.5, 1]))\n",
        "f_prime = f.deriv(1)\n",
        "\n",
        "x_data = np.linspace(1, 20, 100)\n",
        "\n",
        "y1 = forward_diff(f, 0.1, x_data)\n",
        "y2 = backward_diff(f, 0.1, x_data)\n",
        "y3 = central_diff(f, 0.1, x_data)\n",
        "y4 = dh1(f, 0.1, x_data)\n",
        "\n",
        "ax.plot(x_data, y1, label=\"forward difference (h=0.1)\")\n",
        "ax.plot(x_data, y2, label=\"backward difference (h=0.1)\")\n",
        "ax.plot(x_data, y3, label=\"central difference (h=0.1)\")\n",
        "ax.plot(x_data, y4, label=\"richardson extrapolation (h=0.1)\")\n",
        "ax.legend();"
      ],
      "metadata": {
        "colab": {
          "base_uri": "https://localhost:8080/",
          "height": 430
        },
        "id": "-0eClYF7dhif",
        "outputId": "c34b0c05-90b5-4a80-cc52-518f108a9081"
      },
      "execution_count": 26,
      "outputs": [
        {
          "output_type": "display_data",
          "data": {
            "text/plain": [
              "<Figure size 640x480 with 1 Axes>"
            ],
            "image/png": "[encoded data removed]"
          },
          "metadata": {}
        }
      ]
    }
  ]
}