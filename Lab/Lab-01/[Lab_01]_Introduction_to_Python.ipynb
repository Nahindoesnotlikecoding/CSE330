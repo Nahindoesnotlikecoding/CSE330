{
  "nbformat": 4,
  "nbformat_minor": 0,
  "metadata": {
    "colab": {
      "provenance": []
    },
    "kernelspec": {
      "name": "python3",
      "display_name": "Python 3"
    },
    "language_info": {
      "name": "python"
    }
  },
  "cells": [
    {
      "cell_type": "markdown",
      "source": [
        "#Introduction to Python"
      ],
      "metadata": {
        "id": "onlr4FOK2vlI"
      }
    },
    {
      "cell_type": "markdown",
      "source": [
        "# Variables and Data Types\n",
        "* Variables are dynammically typed. No need to write data type while declaring a variable."
      ],
      "metadata": {
        "id": "HrRcQURW3PZ3"
      }
    },
    {
      "cell_type": "code",
      "execution_count": null,
      "metadata": {
        "id": "cKhS2uyKQLfE"
      },
      "outputs": [],
      "source": [
        "#Declaring variables\n",
        "\n",
        "a = 123           #integer\n",
        "b = 1.23          #float\n",
        "c = 1 + 2j        #complex\n",
        "d = \"Hello World\" #string\n",
        "e = True          #boolean true\n",
        "f =  False        #boolean false"
      ]
    },
    {
      "cell_type": "code",
      "source": [
        "#Printing the variables\n",
        "\n",
        "print (a)\n",
        "print (b)\n",
        "print (c)         #Bracket for complex number\n",
        "print (d)\n",
        "print (e)"
      ],
      "metadata": {
        "id": "Jdj-qQJd4mMr",
        "colab": {
          "base_uri": "https://localhost:8080/"
        },
        "outputId": "38975317-25cc-4fe2-fb40-55f8a293eb6a"
      },
      "execution_count": null,
      "outputs": [
        {
          "output_type": "stream",
          "name": "stdout",
          "text": [
            "123\n",
            "1.23\n",
            "(1+2j)\n",
            "Hello World\n",
            "True\n"
          ]
        }
      ]
    },
    {
      "cell_type": "code",
      "source": [
        "#Checking types\n",
        "\n",
        "type(c)"
      ],
      "metadata": {
        "id": "jV1nmQWM4zNZ",
        "colab": {
          "base_uri": "https://localhost:8080/"
        },
        "outputId": "37b6ff82-ba74-4c4c-8917-a28360af0075"
      },
      "execution_count": null,
      "outputs": [
        {
          "output_type": "execute_result",
          "data": {
            "text/plain": [
              "complex"
            ]
          },
          "metadata": {},
          "execution_count": 3
        }
      ]
    },
    {
      "cell_type": "code",
      "source": [
        "#Basic arithmetic operations\n",
        "\n",
        "print (5 + 2)\n",
        "print (5 - 2)\n",
        "print (5 * 2)\n",
        "print (5 / 2)\n",
        "print(5//2)\n",
        "print (5 % 2)     #Mod operator. Returns remainder\n",
        "print (2 ** 4)    #Power"
      ],
      "metadata": {
        "id": "Ti7rIS1f5CBm",
        "colab": {
          "base_uri": "https://localhost:8080/"
        },
        "outputId": "41c97416-07e2-4d98-b6df-c278ff52a024"
      },
      "execution_count": null,
      "outputs": [
        {
          "output_type": "stream",
          "name": "stdout",
          "text": [
            "7\n",
            "3\n",
            "10\n",
            "2.5\n",
            "2\n",
            "1\n",
            "16\n"
          ]
        }
      ]
    },
    {
      "cell_type": "code",
      "source": [
        "print (5 / 3)\n",
        "print (5 // 3)    #Returns only the Integer part"
      ],
      "metadata": {
        "id": "cneCTF135XiG",
        "colab": {
          "base_uri": "https://localhost:8080/"
        },
        "outputId": "7191eef3-c8f8-4652-ff5e-6a8e21fd0435"
      },
      "execution_count": null,
      "outputs": [
        {
          "output_type": "stream",
          "name": "stdout",
          "text": [
            "1.6666666666666667\n",
            "1\n"
          ]
        }
      ]
    },
    {
      "cell_type": "code",
      "source": [
        "print (\"The current value of a is\", a)            #Concatenated using comma\n",
        "print (\"The current value of a is\", a, \"and b is\", b)"
      ],
      "metadata": {
        "id": "D5Y4hPR16GaA",
        "colab": {
          "base_uri": "https://localhost:8080/"
        },
        "outputId": "fbc59009-ffbd-4818-ddf6-66daff4cebb5"
      },
      "execution_count": null,
      "outputs": [
        {
          "output_type": "stream",
          "name": "stdout",
          "text": [
            "The current value of a is 123\n",
            "The current value of a is 123 and b is 1.23\n"
          ]
        }
      ]
    },
    {
      "cell_type": "code",
      "source": [
        "print (\"The current value of a is\", a)               #Default blank space\n",
        "print (\"The current value of a is\", a, sep = '...')  #Customize using separator"
      ],
      "metadata": {
        "id": "sWpFPILg6ahF",
        "colab": {
          "base_uri": "https://localhost:8080/"
        },
        "outputId": "7b8b4735-cbaa-4a73-9619-1ec670bc25ab"
      },
      "execution_count": null,
      "outputs": [
        {
          "output_type": "stream",
          "name": "stdout",
          "text": [
            "The current value of a is 123\n",
            "The current value of a is...123\n"
          ]
        }
      ]
    },
    {
      "cell_type": "code",
      "source": [
        "print (\"The current value of a is\", a)          #Auto newline added. If we don't need any newline, keep it blank\n",
        "print (\"The current value of a is\", a, end = \"\\n\\n\")\n",
        "print (\"Hello\")"
      ],
      "metadata": {
        "id": "7Sg0vHJ46cTL",
        "colab": {
          "base_uri": "https://localhost:8080/"
        },
        "outputId": "966aa469-911d-4be3-f574-e8f5d145a51e"
      },
      "execution_count": null,
      "outputs": [
        {
          "output_type": "stream",
          "name": "stdout",
          "text": [
            "The current value of a is 123\n",
            "The current value of a is 123\n",
            "\n",
            "Hello\n"
          ]
        }
      ]
    },
    {
      "cell_type": "markdown",
      "source": [
        "# String"
      ],
      "metadata": {
        "id": "QJDInrmrMwhN"
      }
    },
    {
      "cell_type": "code",
      "source": [
        "#String Concatenation\n",
        "x = \"Hi!\"\n",
        "y = \"My name is Mrittika\"\n",
        "z = x + y\n",
        "print (z)"
      ],
      "metadata": {
        "id": "NF2li37XMzI9",
        "colab": {
          "base_uri": "https://localhost:8080/"
        },
        "outputId": "8fea1438-8356-4a70-b262-6ac6ffdf3a38"
      },
      "execution_count": null,
      "outputs": [
        {
          "output_type": "stream",
          "name": "stdout",
          "text": [
            "Hi!My name is Mrittika\n"
          ]
        }
      ]
    },
    {
      "cell_type": "code",
      "source": [
        "#Accessing String with character position number. Space is also a character\n",
        "print (y[0])\n",
        "print (y[5])"
      ],
      "metadata": {
        "id": "jYD89_CONM5H",
        "colab": {
          "base_uri": "https://localhost:8080/"
        },
        "outputId": "7b887df6-f416-4b4e-f71a-3ba7793ca6a1"
      },
      "execution_count": null,
      "outputs": [
        {
          "output_type": "stream",
          "name": "stdout",
          "text": [
            "M\n",
            "m\n"
          ]
        }
      ]
    },
    {
      "cell_type": "code",
      "source": [
        "#Length of the String\n",
        "print (len(x))"
      ],
      "metadata": {
        "id": "tewLjes0Nw84",
        "colab": {
          "base_uri": "https://localhost:8080/"
        },
        "outputId": "7f52ef1e-8364-4464-fa3b-37400565026a"
      },
      "execution_count": null,
      "outputs": [
        {
          "output_type": "stream",
          "name": "stdout",
          "text": [
            "3\n"
          ]
        }
      ]
    },
    {
      "cell_type": "code",
      "source": [
        "#Acsessing Last Character\n",
        "print (y[len(y)-1])\n",
        "print(y[-1])"
      ],
      "metadata": {
        "id": "oQef5xCbN6SK",
        "colab": {
          "base_uri": "https://localhost:8080/"
        },
        "outputId": "87e0e4a9-8fe2-4dd5-d868-28816eefa5cb"
      },
      "execution_count": null,
      "outputs": [
        {
          "output_type": "stream",
          "name": "stdout",
          "text": [
            "a\n",
            "a\n"
          ]
        }
      ]
    },
    {
      "cell_type": "code",
      "source": [
        "#Common String Methods\n",
        "s = \"My name is Mrittika\"\n",
        "\n",
        "print (y.upper())   #All uppercase\n",
        "print (y.lower())   #All lowercase\n",
        "print (y.title())   #Title case - Every word first letter uppercase"
      ],
      "metadata": {
        "id": "5ubl1XfiOLPK",
        "colab": {
          "base_uri": "https://localhost:8080/"
        },
        "outputId": "a0afc866-ae00-4741-b812-573881db0297"
      },
      "execution_count": null,
      "outputs": [
        {
          "output_type": "stream",
          "name": "stdout",
          "text": [
            "MY NAME IS MRITTIKA\n",
            "my name is mrittika\n",
            "My Name Is Mrittika\n"
          ]
        }
      ]
    },
    {
      "cell_type": "code",
      "source": [
        "s = \"   My name is Mrittika   \"\n",
        "print (s.strip())   #Strips spaces from starting or ending positions\n",
        "print (s.strip().title())   #Combination of multiple methods - works sequentially"
      ],
      "metadata": {
        "id": "8lQqJ1UtPa05",
        "colab": {
          "base_uri": "https://localhost:8080/"
        },
        "outputId": "c88dd800-9809-4d04-b2cc-05232f9df9d6"
      },
      "execution_count": null,
      "outputs": [
        {
          "output_type": "stream",
          "name": "stdout",
          "text": [
            "My name is Mrittika\n",
            "My Name Is Mrittika\n"
          ]
        }
      ]
    },
    {
      "cell_type": "code",
      "source": [
        "s = \"My name is Mrittika\"\n",
        "print (s.find(\"is\"))    #Returns the position of 1st letter of the intended word\n",
        "print (s.find(\"hello\")) #Not in the string\n",
        "print (s.find (\"a\"))    #Returns 1st appearence position of the intended letter"
      ],
      "metadata": {
        "id": "gz-P4SUmPFO4",
        "colab": {
          "base_uri": "https://localhost:8080/"
        },
        "outputId": "4dfb51ae-6799-4aac-9166-caa00a1a4540"
      },
      "execution_count": null,
      "outputs": [
        {
          "output_type": "stream",
          "name": "stdout",
          "text": [
            "8\n",
            "-1\n",
            "4\n"
          ]
        }
      ]
    },
    {
      "cell_type": "code",
      "source": [
        "#Membership Operator. Returns Boolean\n",
        "\"Mrittika\" in s"
      ],
      "metadata": {
        "id": "NR1GxshDQStn",
        "colab": {
          "base_uri": "https://localhost:8080/"
        },
        "outputId": "8ed820ce-b138-4433-cd2e-4c636d279c8e"
      },
      "execution_count": null,
      "outputs": [
        {
          "output_type": "execute_result",
          "data": {
            "text/plain": [
              "True"
            ]
          },
          "metadata": {},
          "execution_count": 16
        }
      ]
    },
    {
      "cell_type": "code",
      "source": [
        "#Replace method\n",
        "m = \"My name is Anika\"\n",
        "m_new = m.replace(\"Anika\", \"Mrittika\")\n",
        "print (m_new)"
      ],
      "metadata": {
        "id": "W63Ut64LQdkD",
        "colab": {
          "base_uri": "https://localhost:8080/"
        },
        "outputId": "c6dbd99b-8f5f-45b4-d11e-deb6aefafd59"
      },
      "execution_count": null,
      "outputs": [
        {
          "output_type": "stream",
          "name": "stdout",
          "text": [
            "My name is Mrittika\n"
          ]
        }
      ]
    },
    {
      "cell_type": "code",
      "source": [
        "#String Slicing\n",
        "s = \"I love watching football!\"\n",
        "\n",
        "#m[a:b] -> Return from index a up until index b (b not included)\n",
        "print (s[0:5])"
      ],
      "metadata": {
        "id": "vnKBzTtoQjZH",
        "colab": {
          "base_uri": "https://localhost:8080/"
        },
        "outputId": "d0b274b8-7091-479e-9871-acbd56e74175"
      },
      "execution_count": null,
      "outputs": [
        {
          "output_type": "stream",
          "name": "stdout",
          "text": [
            "I lov\n"
          ]
        }
      ]
    },
    {
      "cell_type": "code",
      "source": [
        "print (s[:6])\n",
        "print (s[6:])"
      ],
      "metadata": {
        "id": "nAczcP8VQnYL",
        "colab": {
          "base_uri": "https://localhost:8080/"
        },
        "outputId": "3962caaa-5c8c-430b-a4d8-96b3446f2267"
      },
      "execution_count": null,
      "outputs": [
        {
          "output_type": "stream",
          "name": "stdout",
          "text": [
            "I love\n",
            " watching football!\n"
          ]
        }
      ]
    },
    {
      "cell_type": "code",
      "source": [
        "print (s[-4:])"
      ],
      "metadata": {
        "id": "mxV_ZBLDQozT",
        "colab": {
          "base_uri": "https://localhost:8080/"
        },
        "outputId": "c7a6dc0b-bb51-41d7-af86-8376eec2addf"
      },
      "execution_count": null,
      "outputs": [
        {
          "output_type": "stream",
          "name": "stdout",
          "text": [
            "all!\n"
          ]
        }
      ]
    },
    {
      "cell_type": "markdown",
      "source": [
        "# User Input"
      ],
      "metadata": {
        "id": "UYj0I-eaQrIv"
      }
    },
    {
      "cell_type": "code",
      "source": [
        "username = input(\"Enter username:\")\n",
        "print(\"Username is: \" + username)"
      ],
      "metadata": {
        "id": "1vGSl_PbRtyP",
        "colab": {
          "base_uri": "https://localhost:8080/"
        },
        "outputId": "721dc548-f0c5-4f72-b518-9e8cf9f9e206"
      },
      "execution_count": null,
      "outputs": [
        {
          "output_type": "stream",
          "name": "stdout",
          "text": [
            "Enter username:sdasd\n",
            "Username is: sdasd\n"
          ]
        }
      ]
    },
    {
      "cell_type": "code",
      "source": [
        "print(username*3)"
      ],
      "metadata": {
        "colab": {
          "base_uri": "https://localhost:8080/"
        },
        "id": "No7vRUhQ0H4Y",
        "outputId": "690aa2d4-d084-48b1-ff2d-0c0a51bb3d23"
      },
      "execution_count": null,
      "outputs": [
        {
          "output_type": "stream",
          "name": "stdout",
          "text": [
            "sdasdsdasdsdasd\n"
          ]
        }
      ]
    },
    {
      "cell_type": "code",
      "source": [
        "num = int(input(\"Enter number:\"))  #Take user input as string. Need to type cast to use the numbers\n",
        "print (num * 2)"
      ],
      "metadata": {
        "id": "_dOR7KhESi1f",
        "colab": {
          "base_uri": "https://localhost:8080/"
        },
        "outputId": "aed24d44-b4eb-4d6b-f7a9-f35db4a0e300"
      },
      "execution_count": null,
      "outputs": [
        {
          "output_type": "stream",
          "name": "stdout",
          "text": [
            "Enter number:4\n",
            "8\n"
          ]
        }
      ]
    },
    {
      "cell_type": "markdown",
      "source": [
        "# Conditional Statements"
      ],
      "metadata": {
        "id": "RMCzuY24dCqn"
      }
    },
    {
      "cell_type": "code",
      "source": [
        "x = 5\n",
        "y = 6\n",
        "\n",
        "if x > y:\n",
        "  print(\"Maximum is x\")\n",
        "else:\n",
        "  print (\"Maximum is y\")"
      ],
      "metadata": {
        "id": "asPpvFthdIev",
        "colab": {
          "base_uri": "https://localhost:8080/"
        },
        "outputId": "6cc353c4-6ea5-404a-d56f-63b3440ecd1b"
      },
      "execution_count": null,
      "outputs": [
        {
          "output_type": "stream",
          "name": "stdout",
          "text": [
            "Maximum is y\n"
          ]
        }
      ]
    },
    {
      "cell_type": "code",
      "source": [
        "#elif\n",
        "x = 5\n",
        "y = 5\n",
        "\n",
        "if x > y:\n",
        "  print(\"Maximum is x\")\n",
        "elif x == y:\n",
        "  print (\"x and y are equal\")\n",
        "else:\n",
        "  print (\"Maximum is y\")"
      ],
      "metadata": {
        "id": "zaQxon66dL8-",
        "colab": {
          "base_uri": "https://localhost:8080/"
        },
        "outputId": "727f9da6-fbc3-4043-ef46-39b2286fbb45"
      },
      "execution_count": null,
      "outputs": [
        {
          "output_type": "stream",
          "name": "stdout",
          "text": [
            "x and y are equal\n"
          ]
        }
      ]
    },
    {
      "cell_type": "code",
      "source": [
        "#and - Both conditions need to be True\n",
        "a = 200\n",
        "b = 10\n",
        "c = 500\n",
        "if a > b and c > a:\n",
        "  print(\"Both conditions are True\")\n",
        "else:\n",
        "  print(\"Negative!!\")"
      ],
      "metadata": {
        "id": "6FWjqU1YdOoN",
        "colab": {
          "base_uri": "https://localhost:8080/"
        },
        "outputId": "e6283de9-ffe7-4dbb-f672-a6f9c910ed92"
      },
      "execution_count": null,
      "outputs": [
        {
          "output_type": "stream",
          "name": "stdout",
          "text": [
            "Both conditions are True\n"
          ]
        }
      ]
    },
    {
      "cell_type": "code",
      "source": [
        "#or - Either one of the conditions = True should be enough\n",
        "a = 200\n",
        "b = 10\n",
        "c = 500\n",
        "if a > b or a > c:\n",
        "  print(\"At least one of the conditions is True\")\n",
        "else:\n",
        "  print(\"Negative!!\")"
      ],
      "metadata": {
        "id": "XTSMGCNtdQUD",
        "colab": {
          "base_uri": "https://localhost:8080/"
        },
        "outputId": "d8723cd6-9936-4403-ab87-3b71762b5455"
      },
      "execution_count": null,
      "outputs": [
        {
          "output_type": "stream",
          "name": "stdout",
          "text": [
            "At least one of the conditions is True\n"
          ]
        }
      ]
    },
    {
      "cell_type": "code",
      "source": [
        "#Nested if\n",
        "x = 50\n",
        "\n",
        "if x > 10:\n",
        "  print(\"Above ten!\")\n",
        "  if x > 20:\n",
        "    print(\"and also above 20!\")\n",
        "  else:\n",
        "    print(\"but not above 20!\")\n",
        "else:\n",
        "  print(\"Not even above ten!\")"
      ],
      "metadata": {
        "id": "TNauSPbCdQ_b",
        "colab": {
          "base_uri": "https://localhost:8080/"
        },
        "outputId": "4eb6039e-ffeb-4306-9bb6-f8b2c428e5c6"
      },
      "execution_count": null,
      "outputs": [
        {
          "output_type": "stream",
          "name": "stdout",
          "text": [
            "Above ten!\n",
            "and also above 20!\n"
          ]
        }
      ]
    },
    {
      "cell_type": "code",
      "source": [
        "#pass statement - Can not leave any block blank. Use pass\n",
        "\n",
        "a = 10\n",
        "b = 20\n",
        "\n",
        "if b > a:\n",
        "  pass\n",
        "#else:\n",
        "#print(\"hello\")\n"
      ],
      "metadata": {
        "id": "UAjfef3EdTdQ"
      },
      "execution_count": null,
      "outputs": []
    },
    {
      "cell_type": "markdown",
      "source": [
        "# Python Built-in Data Types"
      ],
      "metadata": {
        "id": "O3_VaiIIfaM3"
      }
    },
    {
      "cell_type": "markdown",
      "source": [
        "#List\n",
        "* Similar to Java or C array, but not same\n",
        "* Collection of elements of multiple data types\n",
        "* Allows easy modification of data\n",
        "* Requires more memory to store additional information about data types of each element"
      ],
      "metadata": {
        "id": "D06hYOfdff_9"
      }
    },
    {
      "cell_type": "code",
      "source": [
        "#Initializing\n",
        "list = [1, 2, 3, 4, 5]\n",
        "print(list)"
      ],
      "metadata": {
        "id": "rYWSjBBbfiTV",
        "colab": {
          "base_uri": "https://localhost:8080/"
        },
        "outputId": "18af0282-5684-4746-ff20-d17b06b4674e"
      },
      "execution_count": null,
      "outputs": [
        {
          "output_type": "stream",
          "name": "stdout",
          "text": [
            "[1, 2, 3, 4, 5]\n"
          ]
        }
      ]
    },
    {
      "cell_type": "code",
      "source": [
        "mixed_list = [1, 2.5, \"hello\", [1, 2, 3]]\n",
        "print(mixed_list[3])"
      ],
      "metadata": {
        "id": "2EZNHk0ig1He",
        "colab": {
          "base_uri": "https://localhost:8080/"
        },
        "outputId": "f2478a81-a465-424c-cb73-8ccbd33eb008"
      },
      "execution_count": null,
      "outputs": [
        {
          "output_type": "stream",
          "name": "stdout",
          "text": [
            "[1, 2, 3]\n"
          ]
        }
      ]
    },
    {
      "cell_type": "code",
      "source": [
        "#List Methods\n",
        "print(len(list))\n",
        "print(4 in list)    #Search\n",
        "\n",
        "list[2] = \"New\"     #Update value\n",
        "print(list)\n",
        "\n",
        "list.append(\"World\")    #Add new element\n",
        "print(list)\n"
      ],
      "metadata": {
        "id": "9vTUgxdihAge",
        "outputId": "34d22cb7-7a8d-42be-bb9f-14d936e98bc7",
        "colab": {
          "base_uri": "https://localhost:8080/"
        }
      },
      "execution_count": null,
      "outputs": [
        {
          "output_type": "stream",
          "name": "stdout",
          "text": [
            "5\n",
            "True\n",
            "[1, 2, 'New', 4, 5]\n",
            "[1, 2, 'New', 4, 5, 'World']\n"
          ]
        }
      ]
    },
    {
      "cell_type": "code",
      "source": [
        "list.remove(\"New\")    #Remove element\n",
        "print(list)\n",
        "list.pop(1)           #Remove using index\n",
        "print(list)\n",
        "\n",
        "list2 = [16, 55]\n",
        "joined_list = list + list2\n",
        "print(joined_list)"
      ],
      "metadata": {
        "id": "_c_eNM3TkGBH",
        "colab": {
          "base_uri": "https://localhost:8080/"
        },
        "outputId": "34cfc633-c58d-4e0d-8fa3-db79747c69cc"
      },
      "execution_count": null,
      "outputs": [
        {
          "output_type": "stream",
          "name": "stdout",
          "text": [
            "[1, 2, 4, 5, 'World']\n",
            "[1, 4, 5, 'World']\n",
            "[1, 4, 5, 'World', 16, 55]\n"
          ]
        }
      ]
    },
    {
      "cell_type": "code",
      "source": [
        "my_list = ['a', 'b', 'c', 'e', 'f', 'd']"
      ],
      "metadata": {
        "id": "S5RXQdaClcs2"
      },
      "execution_count": null,
      "outputs": []
    },
    {
      "cell_type": "code",
      "source": [
        "#List Slicing\n",
        "\n",
        "print (my_list[3])\n",
        "print (my_list[1:3])\n",
        "print (my_list[:3])\n",
        "print (my_list[3:])\n",
        "print (my_list[-3:])"
      ],
      "metadata": {
        "id": "wp8se23clDYU",
        "colab": {
          "base_uri": "https://localhost:8080/"
        },
        "outputId": "eb3fb9f6-8a7f-4349-a44b-589529c1dd17"
      },
      "execution_count": null,
      "outputs": [
        {
          "output_type": "stream",
          "name": "stdout",
          "text": [
            "e\n",
            "['b', 'c']\n",
            "['a', 'b', 'c']\n",
            "['e', 'f', 'd']\n",
            "['e', 'f', 'd']\n"
          ]
        }
      ]
    },
    {
      "cell_type": "code",
      "source": [
        "print (my_list[0:4:2])      #index+2 everytime\n",
        "print (my_list[:])          #All elements\n",
        "print (my_list[::2])\n",
        "print (my_list[::-1])       #Reverse order"
      ],
      "metadata": {
        "id": "oafw3g8PlXZn",
        "colab": {
          "base_uri": "https://localhost:8080/"
        },
        "outputId": "2a8616b2-389b-486f-8660-e19f5bfc3240"
      },
      "execution_count": null,
      "outputs": [
        {
          "output_type": "stream",
          "name": "stdout",
          "text": [
            "['a', 'c']\n",
            "['a', 'b', 'c', 'e', 'f', 'd']\n",
            "['a', 'c', 'f']\n",
            "['d', 'f', 'e', 'c', 'b', 'a']\n"
          ]
        }
      ]
    },
    {
      "cell_type": "code",
      "source": [
        "#Print last 4 elements in reverse\n",
        "my_list = ['a', 'b', 'c', 'd', 'e', 'f']\n",
        "\n",
        "print (my_list[-1:-5:-1])"
      ],
      "metadata": {
        "id": "vnwvsBQVlZqQ",
        "colab": {
          "base_uri": "https://localhost:8080/"
        },
        "outputId": "a8ac8b48-6476-4b63-cd04-8caf9cf11f04"
      },
      "execution_count": null,
      "outputs": [
        {
          "output_type": "stream",
          "name": "stdout",
          "text": [
            "['f', 'e', 'd', 'c']\n"
          ]
        }
      ]
    },
    {
      "cell_type": "code",
      "source": [
        "#print 2nd to 5th element reverse order\n",
        "print (my_list[4:0:-1])"
      ],
      "metadata": {
        "id": "KfetchE5la4Z",
        "colab": {
          "base_uri": "https://localhost:8080/"
        },
        "outputId": "baca471f-8b08-4cf2-e212-f47573e19779"
      },
      "execution_count": null,
      "outputs": [
        {
          "output_type": "stream",
          "name": "stdout",
          "text": [
            "['e', 'd', 'c', 'b']\n"
          ]
        }
      ]
    },
    {
      "cell_type": "code",
      "source": [
        "#Matrix [List of list] using list\n",
        "matrix = [[1, 2, 3, 4],\n",
        "          [5, 6, 7, 8]]\n",
        "\n",
        "# |1 2 3 4|\n",
        "# |5 6 7 8|\n",
        "\n",
        "print (matrix[1][2])"
      ],
      "metadata": {
        "id": "VnpfPciTnTpI",
        "colab": {
          "base_uri": "https://localhost:8080/"
        },
        "outputId": "1f5fc8b7-5819-4657-9935-3fb958c0dcfa"
      },
      "execution_count": null,
      "outputs": [
        {
          "output_type": "stream",
          "name": "stdout",
          "text": [
            "7\n"
          ]
        }
      ]
    },
    {
      "cell_type": "markdown",
      "source": [
        "# Tuple\n",
        "* Immutable - Items can not be modified\n",
        "* Collection of elements of multiple data types"
      ],
      "metadata": {
        "id": "6CwFa9HRr_hC"
      }
    },
    {
      "cell_type": "code",
      "source": [
        "tuple = (1, 2, 3, 4, 5)\n",
        "tuple[0]"
      ],
      "metadata": {
        "id": "GDam-N-2sBWr",
        "colab": {
          "base_uri": "https://localhost:8080/"
        },
        "outputId": "136e7237-7fd2-44cb-e34c-e4e3f08617a7"
      },
      "execution_count": null,
      "outputs": [
        {
          "output_type": "execute_result",
          "data": {
            "text/plain": [
              "1"
            ]
          },
          "metadata": {},
          "execution_count": 40
        }
      ]
    },
    {
      "cell_type": "code",
      "source": [
        "tuple[1] = \"hello\""
      ],
      "metadata": {
        "id": "8QiO-_bIslYl",
        "colab": {
          "base_uri": "https://localhost:8080/",
          "height": 141
        },
        "outputId": "a15ce2ff-0b07-493d-d5e3-36444272d57d"
      },
      "execution_count": null,
      "outputs": [
        {
          "output_type": "error",
          "ename": "TypeError",
          "evalue": "'tuple' object does not support item assignment",
          "traceback": [
            "\u001b[0;31m---------------------------------------------------------------------------\u001b[0m",
            "\u001b[0;31mTypeError\u001b[0m                                 Traceback (most recent call last)",
            "\u001b[0;32m<ipython-input-41-f3de6cd25f9c>\u001b[0m in \u001b[0;36m<cell line: 0>\u001b[0;34m()\u001b[0m\n\u001b[0;32m----> 1\u001b[0;31m \u001b[0mtuple\u001b[0m\u001b[0;34m[\u001b[0m\u001b[0;36m1\u001b[0m\u001b[0;34m]\u001b[0m \u001b[0;34m=\u001b[0m \u001b[0;34m\"hello\"\u001b[0m\u001b[0;34m\u001b[0m\u001b[0;34m\u001b[0m\u001b[0m\n\u001b[0m",
            "\u001b[0;31mTypeError\u001b[0m: 'tuple' object does not support item assignment"
          ]
        }
      ]
    },
    {
      "cell_type": "markdown",
      "source": [
        "#Set\n",
        "* Immutable - Items can not be modified\n",
        "* Unordered - No index\n",
        "* No duplicates allowed"
      ],
      "metadata": {
        "id": "vgcyxF2ps6KI"
      }
    },
    {
      "cell_type": "code",
      "source": [
        "set = {\"apple\", \"banana\", \"cherry\", \"banana\"}\n",
        "print(set)"
      ],
      "metadata": {
        "id": "9W6aIMQutG5o"
      },
      "execution_count": null,
      "outputs": []
    },
    {
      "cell_type": "code",
      "source": [
        "set.add(\"orange\")\n",
        "print(set)\n",
        "\n",
        "set.remove(\"banana\")\n",
        "print(set)"
      ],
      "metadata": {
        "id": "GtfvBZX2tmAM"
      },
      "execution_count": null,
      "outputs": []
    },
    {
      "cell_type": "markdown",
      "source": [
        "# Dictionary\n",
        "* Values stored as key:value pair\n",
        "* Mutable\n",
        "* Key can be of any types but can not be a duplicate value"
      ],
      "metadata": {
        "id": "HZ2WTD9Lt7Gd"
      }
    },
    {
      "cell_type": "code",
      "source": [
        "drivers = {\n",
        "    16: \"Charles\",\n",
        "    1: \"Max\",\n",
        "    55: \"Carlos\",\n",
        "    \"Extra\": \"Liam\"\n",
        "}\n",
        "\n",
        "print(drivers)"
      ],
      "metadata": {
        "id": "7XIvFev-uHCh"
      },
      "execution_count": null,
      "outputs": []
    },
    {
      "cell_type": "code",
      "source": [
        "print(drivers[\"Extra\"])      #Accessing elements\n",
        "\n",
        "drivers[\"Extra\"] = \"Ollie\"\n",
        "print(drivers)\n",
        "\n",
        "drivers.update({81:\"Oscar\"})\n",
        "print(drivers)\n",
        "\n",
        "drivers.pop(\"Extra\")\n",
        "print(drivers)"
      ],
      "metadata": {
        "id": "VAkrgpV2vJk8"
      },
      "execution_count": null,
      "outputs": []
    },
    {
      "cell_type": "markdown",
      "source": [
        "# Loops\n",
        "* 2 types - while loop and for loop"
      ],
      "metadata": {
        "id": "XefbnIv-yCPq"
      }
    },
    {
      "cell_type": "code",
      "source": [
        "#while loop\n",
        "i = 0\n",
        "while i < 10:\n",
        "    print(i)\n",
        "    i = i + 1"
      ],
      "metadata": {
        "id": "mzPpzOMDvxez"
      },
      "execution_count": null,
      "outputs": []
    },
    {
      "cell_type": "code",
      "source": [
        "#for loop\n",
        "for i in range(0, 10, 2): #ending index is exclusive\n",
        "  print(i)"
      ],
      "metadata": {
        "id": "4OVl6arPyrCI"
      },
      "execution_count": null,
      "outputs": []
    },
    {
      "cell_type": "code",
      "source": [
        "# Iterate over the list\n",
        "list = ['a', 'b', 'c', 'd', 'e']\n",
        "\n",
        "for i in list:\n",
        "  print (i)\n",
        "print(\"------------------\")\n",
        "for i in range(len(list)):\n",
        "  print(i)"
      ],
      "metadata": {
        "id": "mNWb7g0Fyy-l"
      },
      "execution_count": null,
      "outputs": []
    },
    {
      "cell_type": "code",
      "source": [
        "# Program to iterate through a list using indexing\n",
        "list = ['a', 'b', 'c', 'd', 'e']\n",
        "\n",
        "# iterate over the list using index\n",
        "for i in range(0, len(list)):\n",
        "    print(\"index =\", i, \"value =\", list[i])"
      ],
      "metadata": {
        "id": "m7glCG6By0l0"
      },
      "execution_count": null,
      "outputs": []
    },
    {
      "cell_type": "code",
      "source": [
        "#break statement - Out of the loop\n",
        "fruits = [\"apple\", \"banana\", \"cherry\"]\n",
        "for x in fruits:\n",
        "  print(x)\n",
        "  if x == \"banana\":\n",
        "    break"
      ],
      "metadata": {
        "id": "mQDpRFlmy2Jx"
      },
      "execution_count": null,
      "outputs": []
    },
    {
      "cell_type": "code",
      "source": [
        "#continue statement - Stop the current iteration of the loop and continue with the next\n",
        "fruits = [\"apple\", \"banana\", \"cherry\"]\n",
        "for i in fruits:\n",
        "  if i == \"banana\":\n",
        "    continue\n",
        "  print(i)"
      ],
      "metadata": {
        "id": "BbuEkXpmy6Rk"
      },
      "execution_count": null,
      "outputs": []
    },
    {
      "cell_type": "code",
      "source": [
        "fruits = [\"apple\", \"banana\", \"cherry\"]\n",
        "for i in fruits:\n",
        "  if i == \"banana\":\n",
        "    pass\n",
        "  print(i)"
      ],
      "metadata": {
        "id": "pAcc-O_e8lk-"
      },
      "execution_count": null,
      "outputs": []
    },
    {
      "cell_type": "code",
      "source": [
        "#Nested loop\n",
        "num_list = [1 , 2, 3]\n",
        "alphabet_list = ['a', 'b', 'c']\n",
        "\n",
        "for number in num_list:\n",
        "    print(number)\n",
        "    for letter in alphabet_list:\n",
        "        print(letter)"
      ],
      "metadata": {
        "id": "aJR6A5Cvy-jl"
      },
      "execution_count": null,
      "outputs": []
    },
    {
      "cell_type": "markdown",
      "source": [
        "# Functions"
      ],
      "metadata": {
        "id": "1DozBdLd8Lms"
      }
    },
    {
      "cell_type": "code",
      "source": [
        "def hello_function():\n",
        "  print(\"Hello\")\n",
        "\n",
        "hello_function()      #Global Scope"
      ],
      "metadata": {
        "id": "-VNi1sQS8O6T"
      },
      "execution_count": null,
      "outputs": []
    },
    {
      "cell_type": "code",
      "source": [
        "#With parameter\n",
        "def name_function(fname, lname):\n",
        "  print(fname, \" \", lname)\n",
        "\n",
        "name_function(\"Anika\", \"Mrittika\")"
      ],
      "metadata": {
        "id": "8ZIcw_Xf8Rm6"
      },
      "execution_count": null,
      "outputs": []
    },
    {
      "cell_type": "code",
      "source": [
        "#With return statement\n",
        "def sum_numbers(number1, number2):\n",
        "  result = number1+number2\n",
        "  return result\n",
        "\n",
        "x = sum_numbers(2, 3)\n",
        "print (x)"
      ],
      "metadata": {
        "id": "GyE5gcc88TfB"
      },
      "execution_count": null,
      "outputs": []
    },
    {
      "cell_type": "code",
      "source": [
        "#Default Parameter Value\n",
        "def increment(number, by=1):\n",
        "    return number + 2*by\n",
        "\n",
        "print(increment(2))\n",
        "print(increment(2, 5))\n",
        "\n",
        "# Keyword arguments\n",
        "print(increment(by=1, number=2))"
      ],
      "metadata": {
        "id": "f-xmb-TG8WZh"
      },
      "execution_count": null,
      "outputs": []
    },
    {
      "cell_type": "code",
      "source": [
        "#If the number of arguments is unknown, add a * before the parameter name. Stored as a Tuple\n",
        "def print_student_list(*kids):\n",
        "  print(kids)\n",
        "  for x in kids:\n",
        "    print (x)\n",
        "\n",
        "print_student_list(\"Emil\", \"Tobias\", \"Linus\")"
      ],
      "metadata": {
        "id": "RKxRqj9f8XCP"
      },
      "execution_count": null,
      "outputs": []
    },
    {
      "cell_type": "markdown",
      "source": [
        "# Numpy\n",
        "* A Python library\n",
        "* Used for working with arrays\n",
        "* Short form of \"Numerical Python\"\n",
        "* Aims to provide an array object that is up to 50x faster than traditional Python lists\n",
        "* Provides a lot of supporting functions"
      ],
      "metadata": {
        "id": "0EE-AY7H_OhY"
      }
    },
    {
      "cell_type": "code",
      "source": [
        "import numpy as np"
      ],
      "metadata": {
        "id": "xtFNP_RN_pMg"
      },
      "execution_count": null,
      "outputs": []
    },
    {
      "cell_type": "code",
      "source": [
        "arr = np.array([1 , 2, 3, 2.45, \"hello\"])\n",
        "print(arr)\n",
        "\n",
        "print(type(arr))"
      ],
      "metadata": {
        "id": "Z3WFV-mw_spn",
        "colab": {
          "base_uri": "https://localhost:8080/"
        },
        "outputId": "38ce654c-11bb-4742-ca80-6344a0ab3268"
      },
      "execution_count": null,
      "outputs": [
        {
          "output_type": "stream",
          "name": "stdout",
          "text": [
            "['1' '2' '3' '2.45' 'hello']\n",
            "<class 'numpy.ndarray'>\n"
          ]
        }
      ]
    },
    {
      "cell_type": "code",
      "source": [
        "print(len(arr))\n",
        "print(arr.shape)    #row, column"
      ],
      "metadata": {
        "id": "6ca6xhZ7_w0O",
        "colab": {
          "base_uri": "https://localhost:8080/"
        },
        "outputId": "95367f37-26ff-456b-8bd0-eaded342f879"
      },
      "execution_count": null,
      "outputs": [
        {
          "output_type": "stream",
          "name": "stdout",
          "text": [
            "5\n",
            "(5,)\n"
          ]
        }
      ]
    },
    {
      "cell_type": "code",
      "source": [
        "#Append\n",
        "x = np.array([1, 2, 3, 4, 5])\n",
        "y = np.append(x, [70])\n",
        "print(y)\n",
        "print(x)    #No change in main array"
      ],
      "metadata": {
        "id": "iDcdgWMt_yVH",
        "colab": {
          "base_uri": "https://localhost:8080/"
        },
        "outputId": "650cf03e-0a7d-4024-a1a6-bd2564811ae2"
      },
      "execution_count": null,
      "outputs": [
        {
          "output_type": "stream",
          "name": "stdout",
          "text": [
            "[ 1  2  3  4  5 70]\n",
            "[1 2 3 4 5]\n"
          ]
        }
      ]
    },
    {
      "cell_type": "code",
      "source": [
        "#Delete\n",
        "x = np.array([1, 2, 3, 4, 5])\n",
        "y = np.delete(x, 3)   #Delete using index\n",
        "print(x)\n",
        "print(y)\n",
        "\n",
        "# print(x)             #No change in main array"
      ],
      "metadata": {
        "id": "Q1pfVX40_0FN",
        "colab": {
          "base_uri": "https://localhost:8080/"
        },
        "outputId": "a6e9a1de-b0e6-4cdc-fa7a-36159c7f931a"
      },
      "execution_count": null,
      "outputs": [
        {
          "output_type": "stream",
          "name": "stdout",
          "text": [
            "[1 2 3 4 5]\n",
            "[1 2 3 5]\n"
          ]
        }
      ]
    },
    {
      "cell_type": "code",
      "source": [
        "#Sorting\n",
        "x = np.array([7, 8, 3, 10, 5])\n",
        "sorted_x = np.sort(x)\n",
        "print(sorted_x)     #Ascending\n",
        "print(sorted_x[3:1:-1])   #Descending - Reverse the Ascending order sorted array\n",
        "\n",
        "print(sorted_x[::-1])"
      ],
      "metadata": {
        "id": "1qy0N4g3_3j2",
        "colab": {
          "base_uri": "https://localhost:8080/"
        },
        "outputId": "1f5e8526-ec3b-4eb2-92d5-1f8352058c7e"
      },
      "execution_count": null,
      "outputs": [
        {
          "output_type": "stream",
          "name": "stdout",
          "text": [
            "[ 3  5  7  8 10]\n",
            "[8 7]\n",
            "[10  8  7  5  3]\n"
          ]
        }
      ]
    },
    {
      "cell_type": "code",
      "source": [
        "arr_2d = np.array([[1, 2, 3, 7, 55],\n",
        "                   [4, 5, 6, 99, 10]])\n",
        "print(arr_2d)"
      ],
      "metadata": {
        "id": "vIZa3jz__5Fk",
        "colab": {
          "base_uri": "https://localhost:8080/"
        },
        "outputId": "a521d59d-edb6-48e7-d7ff-e51c762a3ef5"
      },
      "execution_count": null,
      "outputs": [
        {
          "output_type": "stream",
          "name": "stdout",
          "text": [
            "[[ 1  2  3  7 55]\n",
            " [ 4  5  6 99 10]]\n"
          ]
        }
      ]
    },
    {
      "cell_type": "code",
      "source": [
        "print(len(arr_2d))\n",
        "print(arr_2d.shape)     #row, column\n",
        "print(arr_2d.ndim)      #Dimension"
      ],
      "metadata": {
        "id": "XBmIx2l5D8No",
        "colab": {
          "base_uri": "https://localhost:8080/"
        },
        "outputId": "54cd6de5-4cfe-4c0d-b8dd-14e5aacc0ccd"
      },
      "execution_count": null,
      "outputs": [
        {
          "output_type": "stream",
          "name": "stdout",
          "text": [
            "2\n",
            "(2, 5)\n",
            "2\n"
          ]
        }
      ]
    },
    {
      "cell_type": "code",
      "source": [
        "#indexing\n",
        "arr = np.array([1, 2, 3, 4])\n",
        "\n",
        "print(arr[0])     #1st element\n",
        "print(arr[-1])    #Last element"
      ],
      "metadata": {
        "id": "PZpNDB7L_6pX",
        "colab": {
          "base_uri": "https://localhost:8080/"
        },
        "outputId": "7ecaf19d-4da5-45f6-e747-508c71d54150"
      },
      "execution_count": null,
      "outputs": [
        {
          "output_type": "stream",
          "name": "stdout",
          "text": [
            "1\n",
            "4\n"
          ]
        }
      ]
    },
    {
      "cell_type": "code",
      "source": [
        "arr = np.array([[1,2,3,4,5],\n",
        "               [6,7,8,9,10]])\n",
        "print(arr)\n",
        "\n",
        "print('4th element on 2nd row: ', arr[1, 3])"
      ],
      "metadata": {
        "id": "IrKfWsQjESMX",
        "colab": {
          "base_uri": "https://localhost:8080/"
        },
        "outputId": "c3757353-713f-417a-dc89-8d40f828777e"
      },
      "execution_count": null,
      "outputs": [
        {
          "output_type": "stream",
          "name": "stdout",
          "text": [
            "[[ 1  2  3  4  5]\n",
            " [ 6  7  8  9 10]]\n",
            "4th element on 2nd row:  9\n"
          ]
        }
      ]
    },
    {
      "cell_type": "code",
      "source": [
        "#Slicing\n",
        "arr = np.array([1, 2, 3, 4, 5, 6, 7])\n",
        "\n",
        "print(arr[4:])\n",
        "print(arr[:4])\n",
        "print(arr[-3:-1])\n",
        "print(arr[1:5:2])"
      ],
      "metadata": {
        "id": "H0rVK7A_BJEt",
        "colab": {
          "base_uri": "https://localhost:8080/"
        },
        "outputId": "1479d984-5490-4967-bcce-32f082e3f9af"
      },
      "execution_count": null,
      "outputs": [
        {
          "output_type": "stream",
          "name": "stdout",
          "text": [
            "[5 6 7]\n",
            "[1 2 3 4]\n",
            "[5 6]\n",
            "[2 4]\n"
          ]
        }
      ]
    },
    {
      "cell_type": "code",
      "source": [
        "#Slicing 2-D Arrays\n",
        "arr = np.array([[1, 2, 3, 4, 5],\n",
        "                [6, 7, 8, 9, 10]])\n",
        "\n",
        "#From the second row, slice elements from index 1 to index 4 (not included)\n",
        "print(arr[1, 1:4])\n",
        "\n",
        "#From both rows, slice index 1 to index 4 (not included)\n",
        "print(arr[0:2, 1:4])"
      ],
      "metadata": {
        "id": "YoYhF5ErBWDo",
        "colab": {
          "base_uri": "https://localhost:8080/"
        },
        "outputId": "9d202b7e-c317-4bd8-cd62-44cbd24a2106"
      },
      "execution_count": null,
      "outputs": [
        {
          "output_type": "stream",
          "name": "stdout",
          "text": [
            "[7 8 9]\n",
            "[[2 3 4]\n",
            " [7 8 9]]\n"
          ]
        }
      ]
    },
    {
      "cell_type": "code",
      "source": [
        "arr = np.array([[1, 2, 3, 4, 5],\n",
        "                [6, 7, 8, 9, 10]])\n",
        "print (arr)"
      ],
      "metadata": {
        "id": "XTp-AIxLBXjK",
        "colab": {
          "base_uri": "https://localhost:8080/"
        },
        "outputId": "6be1dbf4-1637-47f4-f70e-2e32045a9171"
      },
      "execution_count": null,
      "outputs": [
        {
          "output_type": "stream",
          "name": "stdout",
          "text": [
            "[[ 1  2  3  4  5]\n",
            " [ 6  7  8  9 10]]\n"
          ]
        }
      ]
    },
    {
      "cell_type": "code",
      "source": [
        "print(arr[:, 0])    #column\n",
        "print(arr[0, :])    #row"
      ],
      "metadata": {
        "id": "zQQJ3EjNBZGh",
        "colab": {
          "base_uri": "https://localhost:8080/"
        },
        "outputId": "2e1daa0b-d670-49c0-cc4d-f69296b92663"
      },
      "execution_count": null,
      "outputs": [
        {
          "output_type": "stream",
          "name": "stdout",
          "text": [
            "[1 6]\n",
            "[1 2 3 4 5]\n"
          ]
        }
      ]
    },
    {
      "cell_type": "code",
      "source": [
        "#zero matrix\n",
        "x = np.zeros(2)\n",
        "print(x)"
      ],
      "metadata": {
        "id": "rpqch64hBZgb",
        "colab": {
          "base_uri": "https://localhost:8080/"
        },
        "outputId": "cbf54661-2078-4b2c-ef17-405bcfd3c238"
      },
      "execution_count": null,
      "outputs": [
        {
          "output_type": "stream",
          "name": "stdout",
          "text": [
            "[0. 0.]\n"
          ]
        }
      ]
    },
    {
      "cell_type": "code",
      "source": [
        "y = np.zeros((4,2))     #row, column\n",
        "print(y)\n",
        "print(y.shape)"
      ],
      "metadata": {
        "id": "1RH97HoTHhBc",
        "colab": {
          "base_uri": "https://localhost:8080/"
        },
        "outputId": "78c828fb-5b20-4025-9bcc-ec7aa9e4e467"
      },
      "execution_count": null,
      "outputs": [
        {
          "output_type": "stream",
          "name": "stdout",
          "text": [
            "[[0. 0.]\n",
            " [0. 0.]\n",
            " [0. 0.]\n",
            " [0. 0.]]\n",
            "(4, 2)\n"
          ]
        }
      ]
    },
    {
      "cell_type": "code",
      "source": [
        "a = np.array([3, 4, 5])\n",
        "b = np.array([[1,2,3],\n",
        "              [4,5,6]])\n",
        "\n",
        "print(np.sum(a))      #Summation of all elements\n",
        "print(np.prod(a))     #Product of all elements\n",
        "\n",
        "print(np.sum(b))\n",
        "print(np.sum(b, axis=0))      #Column-wise\n",
        "print(np.sum(b, axis=1))      #Row-wise"
      ],
      "metadata": {
        "id": "n4nyp2G-Ba58",
        "colab": {
          "base_uri": "https://localhost:8080/"
        },
        "outputId": "914ece97-0d82-44c8-e20a-ff910fec3819"
      },
      "execution_count": null,
      "outputs": [
        {
          "output_type": "stream",
          "name": "stdout",
          "text": [
            "12\n",
            "60\n",
            "21\n",
            "[5 7 9]\n",
            "[ 6 15]\n"
          ]
        }
      ]
    },
    {
      "cell_type": "code",
      "source": [
        "#Logical indexing - Identify which elements fulfill the constraint\n",
        "b = np.array([[1,2,3],[4,5,6]])\n",
        "print(b > 2)"
      ],
      "metadata": {
        "id": "HwYYLGfkBceg",
        "colab": {
          "base_uri": "https://localhost:8080/"
        },
        "outputId": "277ed57f-5bb4-43e2-c3e8-a720201914eb"
      },
      "execution_count": null,
      "outputs": [
        {
          "output_type": "stream",
          "name": "stdout",
          "text": [
            "[[False False  True]\n",
            " [ True  True  True]]\n"
          ]
        }
      ]
    },
    {
      "cell_type": "code",
      "source": [
        "print(b[ b > 2 ])       #Extract the elements that fulfill the constraint"
      ],
      "metadata": {
        "id": "u01huVcQBeXf",
        "colab": {
          "base_uri": "https://localhost:8080/"
        },
        "outputId": "c32475f4-c816-4d59-ac34-8fc772ed1722"
      },
      "execution_count": null,
      "outputs": [
        {
          "output_type": "stream",
          "name": "stdout",
          "text": [
            "[3 4 5 6]\n"
          ]
        }
      ]
    },
    {
      "cell_type": "code",
      "source": [
        "b[ b > 2 ] = 100      #Replace where the constraints are fulfilled\n",
        "print(b)"
      ],
      "metadata": {
        "id": "VPG8dYD5JE0J",
        "colab": {
          "base_uri": "https://localhost:8080/"
        },
        "outputId": "5541d6ef-11bb-491b-ba82-ead14ca13a58"
      },
      "execution_count": null,
      "outputs": [
        {
          "output_type": "stream",
          "name": "stdout",
          "text": [
            "[[  1   2 100]\n",
            " [100 100 100]]\n"
          ]
        }
      ]
    },
    {
      "cell_type": "code",
      "source": [
        "#Iterating\n",
        "arr = np.array([1, 2, 3])\n",
        "for x in arr:\n",
        "  print(x)"
      ],
      "metadata": {
        "id": "nFu_IeI1Bfhk"
      },
      "execution_count": null,
      "outputs": []
    },
    {
      "cell_type": "code",
      "source": [
        "#Print row by row\n",
        "arr = np.array([[1, 2, 3],\n",
        "                [4, 5, 6]])\n",
        "for x in arr:\n",
        "  print(x)"
      ],
      "metadata": {
        "id": "iz6LJn_XJn81"
      },
      "execution_count": null,
      "outputs": []
    },
    {
      "cell_type": "code",
      "source": [
        "#Print element by element\n",
        "arr = np.array([[1, 2, 3], [4, 5, 6]])\n",
        "for x in arr:\n",
        "  for y in x:\n",
        "    print(y)"
      ],
      "metadata": {
        "id": "Sn4FPAkrJpsB"
      },
      "execution_count": null,
      "outputs": []
    },
    {
      "cell_type": "code",
      "source": [
        "#linspace - Create a random array, same difference between the numbers\n",
        "x = np.linspace(0, 100, 4)     #start, end, how many numbers\n",
        "print(x)"
      ],
      "metadata": {
        "id": "fRr6gVT3Bhbv",
        "colab": {
          "base_uri": "https://localhost:8080/"
        },
        "outputId": "eeac4863-caab-432b-fab0-06c0319a1527"
      },
      "execution_count": null,
      "outputs": [
        {
          "output_type": "stream",
          "name": "stdout",
          "text": [
            "[  0.          33.33333333  66.66666667 100.        ]\n"
          ]
        }
      ]
    },
    {
      "cell_type": "code",
      "source": [
        "x = np.linspace(0, 10, 9)     #No 9 integer values of same difference between 0 - 10\n",
        "print(x)"
      ],
      "metadata": {
        "id": "mGwVVGoUK9Lq",
        "colab": {
          "base_uri": "https://localhost:8080/"
        },
        "outputId": "25efee60-2fe2-4990-8bb1-78b9ee75a5b8"
      },
      "execution_count": null,
      "outputs": [
        {
          "output_type": "stream",
          "name": "stdout",
          "text": [
            "[ 0.    1.25  2.5   3.75  5.    6.25  7.5   8.75 10.  ]\n"
          ]
        }
      ]
    },
    {
      "cell_type": "code",
      "source": [
        "#Element wise operation - same operation on every element at a time\n",
        "\n",
        "print(x + 10)"
      ],
      "metadata": {
        "id": "BEcs4AqmBi_Z",
        "colab": {
          "base_uri": "https://localhost:8080/"
        },
        "outputId": "4c112c6f-80da-4ae1-aa35-c2ca3d421580"
      },
      "execution_count": null,
      "outputs": [
        {
          "output_type": "stream",
          "name": "stdout",
          "text": [
            "[10.   11.25 12.5  13.75 15.   16.25 17.5  18.75 20.  ]\n"
          ]
        }
      ]
    },
    {
      "cell_type": "code",
      "source": [
        "y = np.array([1, 2, 3, 4])\n",
        "z = np.array([10, 10, 20, 30])\n",
        "\n",
        "print(y ** 2)\n",
        "print(2*y + z)"
      ],
      "metadata": {
        "id": "HO4eH7D6BkjU",
        "colab": {
          "base_uri": "https://localhost:8080/"
        },
        "outputId": "152568c4-a58b-419c-a418-0bf2657f2d0f"
      },
      "execution_count": null,
      "outputs": [
        {
          "output_type": "stream",
          "name": "stdout",
          "text": [
            "[ 1  4  9 16]\n",
            "[12 14 26 38]\n"
          ]
        }
      ]
    },
    {
      "cell_type": "markdown",
      "source": [
        "# Pandas\n",
        "* A Python library\n",
        "* Used to analyze and manipulate data"
      ],
      "metadata": {
        "id": "Ra14o9NoMGfg"
      }
    },
    {
      "cell_type": "markdown",
      "source": [
        "# Data Analysis"
      ],
      "metadata": {
        "id": "drUWRZ-TTP3Z"
      }
    },
    {
      "cell_type": "code",
      "source": [
        "import pandas as pd"
      ],
      "metadata": {
        "id": "ZoKFnECfMRTa"
      },
      "execution_count": null,
      "outputs": []
    },
    {
      "cell_type": "code",
      "source": [
        "data = {\n",
        "  \"Name\": ['Arif', 'Nafis', 'Hasan'],\n",
        "  \"Age\": [35, 30, 40]\n",
        "}\n",
        "\n",
        "#load data into a DataFrame [Formated data; 2 Dimensional Data Structure]\n",
        "df = pd.DataFrame(data)\n",
        "\n",
        "print(df)\n"
      ],
      "metadata": {
        "id": "pRf-NhbpQI43"
      },
      "execution_count": null,
      "outputs": []
    },
    {
      "cell_type": "code",
      "source": [
        "#loc attribute - accessing the dataframe values\n",
        "print(df.loc[0])"
      ],
      "metadata": {
        "id": "h7LaM2WkQO5j"
      },
      "execution_count": null,
      "outputs": []
    },
    {
      "cell_type": "code",
      "source": [
        "#Read csv\n",
        "df = pd.read_csv('lab1_data.csv')\n",
        "print (df)           #Show first 5 and last 5 entries"
      ],
      "metadata": {
        "id": "2z-_cHjHQPeu"
      },
      "execution_count": null,
      "outputs": []
    },
    {
      "cell_type": "code",
      "source": [
        "print (df.to_string())        #Show all entries"
      ],
      "metadata": {
        "id": "Ow2K6pr5R_pg"
      },
      "execution_count": null,
      "outputs": []
    },
    {
      "cell_type": "code",
      "source": [
        "#Analyzing data\n",
        "print(df.head(10))        #Show first N entries"
      ],
      "metadata": {
        "id": "jO9jmWFGQRBd"
      },
      "execution_count": null,
      "outputs": []
    },
    {
      "cell_type": "code",
      "source": [
        "print(df.tail())          #Show last 5 entries"
      ],
      "metadata": {
        "id": "5Eil_B5USTJj"
      },
      "execution_count": null,
      "outputs": []
    },
    {
      "cell_type": "code",
      "source": [
        "print(df.info())          #Information summary of all datas"
      ],
      "metadata": {
        "id": "C74DjF0AQSXb"
      },
      "execution_count": null,
      "outputs": []
    },
    {
      "cell_type": "code",
      "source": [
        "print(df.describe())        #More detailed information of all datas"
      ],
      "metadata": {
        "id": "MNVWV_FUSe3s"
      },
      "execution_count": null,
      "outputs": []
    },
    {
      "cell_type": "code",
      "source": [
        "#Information of a specific column\n",
        "print(df[\"Calories\"].mean())\n",
        "print(df[\"Calories\"].median())\n",
        "print(df[\"Calories\"].mode())"
      ],
      "metadata": {
        "id": "rQdYGveiQTw7"
      },
      "execution_count": null,
      "outputs": []
    },
    {
      "cell_type": "markdown",
      "source": [
        "#Data Cleaning"
      ],
      "metadata": {
        "id": "wRbuXv01QbPi"
      }
    },
    {
      "cell_type": "code",
      "source": [
        "#Drop rows with empty cells. Return a new Data Frame.\n",
        "new_df = df.dropna()\n",
        "print(new_df.to_string())"
      ],
      "metadata": {
        "id": "oDctIPaLQcHu"
      },
      "execution_count": null,
      "outputs": []
    },
    {
      "cell_type": "code",
      "source": [
        "#Replace NULL values with the mean value = 375\n",
        "df.fillna(375, inplace = True)        #Inplace - Changes saved in the same Dataframe\n",
        "print(df.to_string())"
      ],
      "metadata": {
        "id": "YPD1xdsPQdo5"
      },
      "execution_count": null,
      "outputs": []
    },
    {
      "cell_type": "code",
      "source": [
        "#Update data\n",
        "df.loc[5, 'Pulse'] = 45\n",
        "\n",
        "print(df.to_string())"
      ],
      "metadata": {
        "id": "cQdnfuyZQe8w"
      },
      "execution_count": null,
      "outputs": []
    },
    {
      "cell_type": "code",
      "source": [
        "#Duplicate data finding\n",
        "print(df.duplicated().to_string())      #False - Unique, True - Duplicate values"
      ],
      "metadata": {
        "id": "geCGTtZUQgYt"
      },
      "execution_count": null,
      "outputs": []
    },
    {
      "cell_type": "code",
      "source": [
        "#Drop duplicate data\n",
        "df.drop_duplicates(inplace = True)\n",
        "print(df.duplicated().to_string())"
      ],
      "metadata": {
        "id": "if4uZhuTQhrC"
      },
      "execution_count": null,
      "outputs": []
    },
    {
      "cell_type": "code",
      "source": [
        "#correlation\n",
        "df.corr()       # 0 - No relation, 1 - Strongly correlated, -1 - Strongly correlated but adversely"
      ],
      "metadata": {
        "id": "pV5pyVPIQjKv"
      },
      "execution_count": null,
      "outputs": []
    },
    {
      "cell_type": "markdown",
      "source": [
        "#Data Visualisation"
      ],
      "metadata": {
        "id": "tiaqzHNAYEYM"
      }
    },
    {
      "cell_type": "code",
      "source": [
        "#plot data\n",
        "df.plot()"
      ],
      "metadata": {
        "id": "SG2F2MAoQkUj"
      },
      "execution_count": null,
      "outputs": []
    },
    {
      "cell_type": "code",
      "source": [
        "#Customise to make it more understandable\n",
        "df.plot(kind = 'scatter', x = 'Duration', y = 'Calories')"
      ],
      "metadata": {
        "id": "oce3BUtwQlz6"
      },
      "execution_count": null,
      "outputs": []
    },
    {
      "cell_type": "code",
      "source": [
        "df.plot(kind = 'scatter', x = 'Duration', y = 'Maxpulse')"
      ],
      "metadata": {
        "id": "3_XC03GqXN0v"
      },
      "execution_count": null,
      "outputs": []
    },
    {
      "cell_type": "code",
      "source": [
        "df[\"Duration\"].plot(kind = 'hist')"
      ],
      "metadata": {
        "id": "D06dQ4QhQnaD"
      },
      "execution_count": null,
      "outputs": []
    }
  ]
}